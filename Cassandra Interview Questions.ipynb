{
 "cells": [
  {
   "cell_type": "markdown",
   "metadata": {},
   "source": [
    "# Cassandra Interview Questions"
   ]
  },
  {
   "cell_type": "markdown",
   "metadata": {},
   "source": [
    "# 1) Explain Cassandra."
   ]
  },
  {
   "cell_type": "markdown",
   "metadata": {},
   "source": [
    "\n",
    "Cassandra is a highly scalable, high-performance distributed database system designed to handle large amounts of data across many commodity servers, providing high availability with no single point of failure. It is a type of NoSQL database.\n",
    "\n",
    "Key features of Cassandra include:\n",
    "\n",
    "- **Distributed**: Every node in the cluster has the same role. There is no single point of failure. Data is distributed across the cluster (but can be replicated based on the replication strategy).\n",
    "\n",
    "- **Scalability**: Designed to have read and write throughput both increase linearly as new machines are added, with the aim of handling high write and read loads.\n",
    "\n",
    "- **Fault-tolerant**: Data is automatically replicated to multiple nodes for fault-tolerance. Replication across multiple data centers is supported.\n",
    "\n",
    "- **Tunable consistency**: Cassandra is typically classified as an AP (Available and Partition-Tolerant) system, allowing the clients to choose the level of consistency they need for a given operation (from \"writes never fail\" to \"block for all replicas to be readable\").\n",
    "\n",
    "- **CQL (Cassandra Query Language)**: A SQL-like language for querying Cassandra Database.\n",
    "\n",
    "- **Schema-free**: Cassandra is a schema-free database, which allows great flexibility with your data models.\n",
    "\n",
    "For more detailed information, you can refer to the `Cassandra Tutorial.ipynb` and [`CQL.ipynb`](command:_github.copilot.openRelativePath?%5B%22CQL.ipynb%22%5D \"CQL.ipynb\") notebooks in your workspace."
   ]
  },
  {
   "cell_type": "markdown",
   "metadata": {},
   "source": [
    "# 2) In which language Cassandra is written?"
   ]
  },
  {
   "cell_type": "markdown",
   "metadata": {},
   "source": [
    "Cassandra is written in Java."
   ]
  },
  {
   "cell_type": "markdown",
   "metadata": {},
   "source": [
    "# 3) Who was the original author of Cassandra?"
   ]
  },
  {
   "cell_type": "markdown",
   "metadata": {},
   "source": [
    "The original authors of Cassandra are Avinash Lakshman and Prashant Malik. It was initially developed at Facebook to power the Facebook inbox search feature."
   ]
  },
  {
   "cell_type": "markdown",
   "metadata": {},
   "source": [
    "# 4) Which query language is used in Cassandra database?"
   ]
  },
  {
   "cell_type": "markdown",
   "metadata": {},
   "source": [
    "Cassandra uses the Cassandra Query Language (CQL) for interacting with the database. CQL is similar to SQL in syntax, and it allows users to insert, query, update, and delete data in Cassandra."
   ]
  },
  {
   "cell_type": "markdown",
   "metadata": {},
   "source": [
    "# 5) What are the benefits/advantages of Cassandra?"
   ]
  },
  {
   "cell_type": "markdown",
   "metadata": {},
   "source": [
    "Cassandra offers several advantages:\n",
    "\n",
    "1. **Distributed**: Every node in the cluster has the same role. There is no single point of failure. Data is distributed across the cluster (but can be replicated based on the replication strategy).\n",
    "\n",
    "2. **Scalability**: Cassandra is designed to handle big data. Its distributed architecture allows for easy horizontal scaling, meaning that you can add more machines to the network as your business grows.\n",
    "\n",
    "3. **Fault-tolerant**: Data is automatically replicated to multiple nodes for fault-tolerance. Replication across multiple data centers is supported. Failed nodes can be replaced with no downtime.\n",
    "\n",
    "4. **Tunable consistency**: Cassandra is typically classified as an AP (Available and Partition-Tolerant) system, allowing the clients to choose the level of consistency they need for a given operation (from \"writes never fail\" to \"block for all replicas to be readable\").\n",
    "\n",
    "5. **CQL (Cassandra Query Language)**: A SQL-like language for querying Cassandra Database, which makes it easier for developers to work with.\n",
    "\n",
    "6. **Performance**: Cassandra is designed to handle high read and write loads. It offers robust support for clusters spanning multiple datacenters, with asynchronous masterless replication allowing low latency operations for all clients.\n",
    "\n",
    "7. **Schema-free**: Cassandra is a schema-free database, which allows great flexibility with your data models. You can add columns to any row in a table without having to alter the entire table structure.\n",
    "\n",
    "8. **Integration**: Cassandra can be easily integrated with other popular technologies like Hadoop, Spark, and Kafka."
   ]
  },
  {
   "cell_type": "markdown",
   "metadata": {},
   "source": [
    "# 6) Where Cassandra stores its data?"
   ]
  },
  {
   "cell_type": "markdown",
   "metadata": {},
   "source": [
    "Cassandra stores its data on the file system. Each Cassandra node stores the data it is responsible for on its local disk. The data is distributed among all nodes in the cluster based on the partition key of the data and the cluster's partitioner and replication strategies.\n",
    "\n",
    "Cassandra's data model consists of keyspaces, which are similar to databases in a relational database. Each keyspace has one or more tables. Each table's data is stored separately and consists of several files on disk:\n",
    "\n",
    "- SSTables (Sorted String Tables): These are immutable data files to which Cassandra writes memtables periodically.\n",
    "- Commit log: This is a crash-recovery mechanism in Cassandra. All writes are recorded in the commit log before they are processed.\n",
    "- Index file: This contains a subset of the data for faster lookups.\n",
    "- Bloom filter: These are memory-efficient data structures designed to tell you, rapidly and memory-efficiently, whether an element is present in a set.\n",
    "\n",
    "The exact location where Cassandra stores its data can be configured in the Cassandra configuration file (cassandra.yaml), in the `data_file_directories` parameter."
   ]
  },
  {
   "cell_type": "markdown",
   "metadata": {},
   "source": [
    "# 7) What was the design goal of Cassandra?"
   ]
  },
  {
   "cell_type": "markdown",
   "metadata": {},
   "source": [
    "The design goal of Cassandra was to handle large amounts of data across many commodity servers while providing high availability without a single point of failure. \n",
    "\n",
    "Cassandra was designed to meet the following requirements:\n",
    "\n",
    "1. **Scalability**: The system should be able to scale out linearly and operate in a distributed manner. This means that adding more nodes to the system should increase the system's capacity proportionally.\n",
    "\n",
    "2. **Fault Tolerance**: The system should be capable of surviving the failure of nodes or network without any loss of data. Data is automatically replicated to multiple nodes for fault-tolerance.\n",
    "\n",
    "3. **Performance**: The system should have high write and read throughput.\n",
    "\n",
    "4. **Durability**: Data should not be lost. Cassandra achieves this by writing all updates to a commit log before they are applied to the data files.\n",
    "\n",
    "5. **Tunable Consistency**: The system allows for tunable consistency. For example, to write or read data, the client can specify how many replicas must respond to consider the operation successful.\n",
    "\n",
    "6. **Decentralization**: The system should operate in a decentralized manner where each node is capable of serving any request.\n",
    "\n",
    "7. **Flexible Schema**: The system should allow for a flexible and dynamic data model.\n",
    "\n",
    "These design goals make Cassandra a good fit for applications that need to handle large amounts of data with high availability and flexible data models."
   ]
  },
  {
   "cell_type": "markdown",
   "metadata": {},
   "source": [
    "# 8) How many types of NoSQL databases? Give some examples."
   ]
  },
  {
   "cell_type": "markdown",
   "metadata": {},
   "source": [
    "There are four main types of NoSQL databases:\n",
    "\n",
    "1. **Document databases**: These pair each key with a complex data structure known as a document. Documents can contain many different key-value pairs, or key-array pairs, or even nested documents. Examples: MongoDB, CouchDB.\n",
    "\n",
    "2. **Key-value stores**: These are the simplest NoSQL databases. Every single item in the database is stored as an attribute name (or 'key'), together with its value. Examples: Redis, Riak.\n",
    "\n",
    "3. **Wide-column stores**: These store data together as columns instead of rows and are optimized for queries over large datasets. The column-oriented storage allows for massive data compression and fast search across many columns. Examples: Cassandra, HBase.\n",
    "\n",
    "4. **Graph databases**: These are used to store information about networks, such as social connections. Graph databases include Neo4J and Giraph.\n",
    "\n",
    "These types are not mutually exclusive; for example, document databases, wide-column stores, and key-value stores can be seen as different ways of organizing a hash table. Each type has its own use cases and advantages, and many databases incorporate multiple types into their designs."
   ]
  },
  {
   "cell_type": "markdown",
   "metadata": {},
   "source": [
    "# 9) Mention some important components of Cassandra data models?\n",
    "These are some key components of Cassandra data model: -\n",
    "\n",
    "Table( collection of columns)\n",
    "Node\n",
    "Cluster\n",
    "Keyspace\n",
    "\n",
    "10) What are the other components of Cassandra?\n",
    "\n",
    "Some other components of Cassandra are:\n",
    "\n",
    "Node\n",
    "Data Center\n",
    "Commit log\n",
    "Mem-table\n",
    "SSTable\n",
    "Bloom Filter\n",
    "\n",
    "11) What is keyspace in Cassandra?\n",
    "\n",
    "In Cassandra, a keyspace is a namespace that determines data replication on nodes. A cluster contains of one keyspace per node.\n",
    "\n",
    "12) What are the different composite keys in Cassandra?\n",
    "In Cassandra, composite keys are used to define key or a column name with a concatenation of data of different type. There are two types of Composite key in Cassandra:\n",
    "\n",
    "Row Key\n",
    "Column Name\n",
    "\n",
    "13) What is data replication in Cassandra?\n",
    "\n",
    "Data replication is an electronic copying of data from a database in one computer or server to a database in another so that all users can share the same level of information. Cassandra stores replicas on multiple nodes to ensure reliability and fault tolerance. The replication strategy decides the nodes where replicas are placed.\n",
    "\n",
    "14) What is node in Cassandra?\n",
    "In Cassandra, node is a place where data is stored.\n",
    "\n",
    "15) What do you mean by data center in Cassandra?\n",
    "\n",
    "Data center is a complete data of clusters.\n",
    "\n",
    "16) What do you mean by commit log in Cassandra?\n",
    "\n",
    "In Cassandra, commit log is a crash-recovery mechanism. Every write operation is written to the commit log.\n",
    "\n",
    "17) 17) What do you mean by column family in Cassandra?\n",
    "\n",
    "Column family is a table in RDMS that contains an ordered collection of rows.\n",
    "\n",
    "18) What do you mean by consistency in Cassandra?\n",
    "\n",
    "Consistency in Cassandra specifies how to synchronize and up to date a row of Cassandra data and its replicas.\n",
    "\n",
    "19) How many types of tunable consistency are supported in Cassandra?\n",
    "\n",
    "It supports two consistencies: Eventual Consistency and Strong Consistency.\n",
    "\n",
    "The eventual consistency is used when no new updates are made on a given data item, all accesses return the last updated value eventually. Systems with eventual consistency are known to have achieved replica convergence.\n",
    "\n",
    "Cassandra supports the following conditions for strong consistency:\n",
    "\n",
    "R + W > N\n",
    "\n",
    "Here\n",
    "\n",
    "N: Number of replicas\n",
    "\n",
    "W: Number of nodes that need to agree for a successful write\n",
    "\n",
    "R: Number of nodes that need to agree for a successful read\n",
    "\n",
    "20) What is tunable consistency in Cassandra?\n",
    "\n",
    "Tunable Consistency is a phenomenal characteristic of Cassandra which makes it a popular choice. Consistency refers to the up-to-date and synchronized data rows on all their replicas. Cassandra's Tunable Consistency facilitates users to select the consistency level best suited for their use cases.\n",
    "\n",
    "21) What is the syntax to create keyspace in Cassandra?\n",
    "\n",
    "CREATE KEYSPACE <identifier> WITH <properties>  \n",
    "\n",
    "22) What is a column family in Cassandra?\n",
    "\n",
    "In Cassandra, a collection of rows is referred as \"column family\".\n",
    "\n",
    "23) How does Cassandra perform write function?\n",
    "\n",
    "Cassandra performs the write function by applying two commits:\n",
    "\n",
    "First commit is applied on disk and then second commit to an in-memory structure known as memtable.\n",
    "When the both commits are applied successfully, the write is achieved.\n",
    "Writes are written in the table structure as SSTable (sorted string table).\n",
    "\n",
    "24) What is memtable?\n",
    "\n",
    "Memtable is in-memory/write-back cache space containing content in key and column format. In memtable, data is sorted by key, and each ColumnFamily has a distinct memtable that retrieves column data via key. It stores the writes until it is full, and then flushed out.\n",
    "\n",
    "25) What is SSTable?\n",
    "\n",
    "SSTable is a short form of 'Sorted String Table'. It refers to an important data file in Cassandra and accepts regular written memtables. They are stored on disk and exist for each Cassandra table.\n",
    "\n",
    "\n",
    "26) How the SSTable is different from other relational tables?\n",
    "\n",
    "SStables do not allow any further addition and removal of data items once written. For each SSTable, Cassandra creates three separate files like partition index, partition summary and a bloom filter.\n",
    "\n",
    "27) What are the management tools in Cassandra?\n",
    "\n",
    "DataStaxOpsCenter: It is an internet-based management and monitoring solution for Cassandra cluster and DataStax. It is free to download and includes an additional Edition of OpsCenter.\n",
    "\n",
    "SPM: SPM primarily administers Cassandra metrics and various OS and JVM metrics. It also monitors Hadoop, Spark, Solr, Storm, zookeeper and other Big Data platforms besides Cassandra.\n",
    "\n",
    "28) Mention some important features of SPM in Cassandra?\n",
    "\n",
    "The main features of SPM are:\n",
    "\n",
    "Correlation of events and metrics\n",
    "Distributed transaction tracing\n",
    "Creating real-time graphs with zooming\n",
    "Detection and heartbeat alerting\n",
    "\n",
    "29) What is cluster in Cassandra?\n",
    "\n",
    "In Cassandra, the cluster is an outermost container for keyspaces that arranges the nodes in a ring format and assigns data to them. These nodes have a replica which takes charge in case of data handling failure.\n",
    "\n",
    "30) What is the role of ALTER KEYSPACE?\n",
    "\n",
    "ALTER KEYSPACE is used to change the value of DURABLE_WRITES with its related properties.\n",
    "\n",
    "31) What do you mean by Cassandra-Cqlsh?\n",
    "\n",
    "Cqlsh is a Cassandra query language shell used to execute the commands of CQL (Cassandra query language).\n",
    "\n",
    "32) What are the differences between a node, a cluster, and datacenter in Cassandra?\n",
    "\n",
    "Node: A node is a single machine running Cassandra.\n",
    "\n",
    "Cluster: A cluster is a collection of nodes that contains similar types of data together.\n",
    "\n",
    "Datacenter: A datacenter is a useful component when serving customers in different geographical areas. Different nodes of a cluster can be grouped into different data centers.\n",
    "\n",
    "33) What is the use of Cassandra CQL collection?\n",
    "\n",
    "Cassandra CQL collection is used to collect the data and store it in a column where each collection represents the same type of data. CQL consist of three types of types:\n",
    "\n",
    "SET: It is a collection of unordered list of unique elements.\n",
    "List: It is a collection of elements arranged in an order and can contain duplicate values.\n",
    "MAP: It is a collection of unique elements in a form of key-value pair.\n",
    "\n",
    "34) What is the use of Bloom Filter in Cassandra?\n",
    "\n",
    "On a request of a data, before doing any disk I/O Bloom filter checks whether the requested data exist in the row of SSTable.\n",
    "\n",
    "35) How does Cassandra delete data?\n",
    "In Cassandra, to delete a row, it is required to associate the value of column to Tombstone (where Tombstone is a special value).\n",
    "\n",
    "36) What is SuperColumn in Cassandra?\n",
    "\n",
    "In Cassandra, SuperColumn is a unique element containing similar collection of data. They are actually key-value pairs with values as columns.\n",
    "\n",
    "37) What is the difference between Column and SuperColumn?\n",
    "\n",
    "Difference between Column and SuperColumn:\n",
    "\n",
    "The values in columns are string while the values in SuperColumn are Map of Columns with different data types.\n",
    "Unlike Columns, Super Columns do not contain the third component of timestamp.\n",
    "\n",
    "38) What is Hadoop, HBase, Hive and Cassandra? Specify similarities and differences among them.\n",
    "\n",
    "Hadoop, HBase, Hive and Cassandra all are Apache products.\n",
    "\n",
    "Apache Hadoop supports file storage, grid compute processing via Map reduce. Apache Hive is a SQL like interface on the top of Haddop. Apache HBase follows column family storage built like Big Table. Apache Cassandra also follows column family storage built like Big Table with Dynamo topology and consistency.\n",
    "\n",
    "39) What is the usage of \"void close()\" method?\n",
    "\n",
    "In Cassandra, the void close() method is used to close the current session instance.\n",
    "\n",
    "40) Which command is used to start the cqlsh prompt?\n",
    "\n",
    "The cqlsh command is used to start the cqlsh prompt.\n",
    "\n",
    "41) What is the usage of \"cqlsh-version\" command?\n",
    "\n",
    "The \"cqlsh-version\" command is used to provide the version of the cqlsh you are using.\n",
    "\n",
    "42) Does Cassandra work on Windows?\n",
    "\n",
    "Yes. Cassandra is compatible on Windows and works pretty well. Now its Linux and Window compatible version are available.\n",
    "\n",
    "43) What is Kundera in Cassandra?\n",
    "\n",
    "In Cassandra, Kundera is an object-relational mapping (ORM) implementation which is written using Java annotations.\n",
    "\n",
    "44) What do you mean by Thrift in Cassandra?\n",
    "\n",
    "Thrift is the name of RPC client which is used to communicate with the Cassandra Server.\n",
    "\n",
    "45) What is Hector in Cassandra?\n",
    "\n",
    "Hector was one of the early Cassandra clients. It is an open source project written in Java using the MIT license.\n",
    "\n"
   ]
  },
  {
   "cell_type": "markdown",
   "metadata": {},
   "source": [
    "# Reference:\n",
    "\n",
    "1. [JavaPoint](https://www.javatpoint.com/cassandra-interview-questions-and-answers)\n",
    "2. [Copilot]()"
   ]
  }
 ],
 "metadata": {
  "language_info": {
   "name": "python"
  }
 },
 "nbformat": 4,
 "nbformat_minor": 2
}
