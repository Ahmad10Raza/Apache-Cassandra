{
 "cells": [
  {
   "cell_type": "markdown",
   "metadata": {},
   "source": [
    "# **Cassandra Query Language(CQL)**"
   ]
  },
  {
   "cell_type": "markdown",
   "metadata": {},
   "source": [
    "# Cassandra Create Data"
   ]
  },
  {
   "cell_type": "markdown",
   "metadata": {},
   "source": [
    "Determining workspace structure\n",
    "\n",
    "Deciding which workspace information to collect\n",
    "\n",
    "Gathering workspace info\n",
    "\n",
    "In Cassandra, you can create data using the `INSERT INTO` statement. Here's an example from your `Cassandra Tutorial.ipynb` notebook:\n",
    "\n"
   ]
  },
  {
   "cell_type": "code",
   "execution_count": null,
   "metadata": {
    "vscode": {
     "languageId": "cql"
    }
   },
   "outputs": [],
   "source": [
    "INSERT INTO table (column1, column2) VALUES ('value1', 'value2') USING TTL 3600;"
   ]
  },
  {
   "cell_type": "code",
   "execution_count": null,
   "metadata": {
    "vscode": {
     "languageId": "plaintext"
    }
   },
   "outputs": [],
   "source": [
    "INSERT INTO student (student_id, student_fees, student_name)   \n",
    "VALUES(1,5000, 'Ajeet');  \n",
    "INSERT INTO student (student_id, student_fees, student_name)   \n",
    "VALUES(2,3000, 'Kanchan');  \n",
    "INSERT INTO student (student_id, student_fees, student_name)   \n",
    "VALUES(3, 2000, 'Shivani');  "
   ]
  },
  {
   "cell_type": "markdown",
   "metadata": {},
   "source": [
    "\n",
    "\n",
    "In this example, data ('value1', 'value2') is inserted into the table. The `USING TTL 3600` part is optional and sets a Time to Live (TTL) for the data, meaning the data will automatically be deleted after 3600 seconds (1 hour).\n",
    "\n",
    "You can replace `table`, `column1`, `column2`, `value1`, and `value2` with your actual table name, column names, and values respectively."
   ]
  },
  {
   "cell_type": "markdown",
   "metadata": {},
   "source": [
    "# Cassandra READ Data"
   ]
  },
  {
   "cell_type": "markdown",
   "metadata": {},
   "source": [
    "In Cassandra, you can read data using the `SELECT` statement. Here's the general syntax:\n",
    "\n"
   ]
  },
  {
   "cell_type": "code",
   "execution_count": null,
   "metadata": {
    "vscode": {
     "languageId": "cql"
    }
   },
   "outputs": [],
   "source": [
    "SELECT column1, column2 FROM keyspace_name.table_name WHERE conditions;"
   ]
  },
  {
   "cell_type": "markdown",
   "metadata": {},
   "source": [
    "\n",
    "\n",
    "For example, if you want to read data from the `student` table in the `my_keyspace` keyspace, you would use the following command:\n",
    "\n"
   ]
  },
  {
   "cell_type": "code",
   "execution_count": null,
   "metadata": {
    "vscode": {
     "languageId": "cql"
    }
   },
   "outputs": [],
   "source": [
    "SELECT student_id, student_fees, student_name FROM my_keyspace.student;"
   ]
  },
  {
   "cell_type": "markdown",
   "metadata": {},
   "source": [
    "\n",
    "\n",
    "This command selects all data from the `student_id`, `student_fees`, and `student_name` columns in the `student` table.\n",
    "\n",
    "You can also add conditions to the `SELECT` statement to filter the data. For example, to select only the students whose fees are greater than 3000, you would use:\n",
    "\n"
   ]
  },
  {
   "cell_type": "code",
   "execution_count": null,
   "metadata": {
    "vscode": {
     "languageId": "cql"
    }
   },
   "outputs": [],
   "source": [
    "SELECT student_id, student_fees, student_name FROM my_keyspace.student WHERE student_fees > 3000;"
   ]
  },
  {
   "cell_type": "markdown",
   "metadata": {},
   "source": [
    "\n",
    "\n",
    "This command selects only the students whose fees are greater than 3000."
   ]
  },
  {
   "cell_type": "markdown",
   "metadata": {},
   "source": [
    "## Use of WHERE Clause"
   ]
  },
  {
   "cell_type": "markdown",
   "metadata": {},
   "source": [
    "In Cassandra, the `WHERE` clause is used in a `SELECT` statement to filter the results of a query. It can be used to filter results based on one or more conditions.\n",
    "\n",
    "Here's the general syntax:\n",
    "\n"
   ]
  },
  {
   "cell_type": "code",
   "execution_count": null,
   "metadata": {
    "vscode": {
     "languageId": "cql"
    }
   },
   "outputs": [],
   "source": [
    "SELECT column1, column2 FROM keyspace_name.table_name WHERE condition;"
   ]
  },
  {
   "cell_type": "markdown",
   "metadata": {},
   "source": [
    "\n",
    "\n",
    "For example, if you have a table named `users` in the `my_keyspace` keyspace and you want to select users whose `user_id` is 1, you would use the following command:\n",
    "\n"
   ]
  },
  {
   "cell_type": "code",
   "execution_count": null,
   "metadata": {
    "vscode": {
     "languageId": "cql"
    }
   },
   "outputs": [],
   "source": [
    "SELECT * FROM my_keyspace.users WHERE user_id = 1;"
   ]
  },
  {
   "cell_type": "markdown",
   "metadata": {},
   "source": [
    "\n",
    "\n",
    "This command selects all columns (`*`) from the `users` table where the `user_id` is 1.\n",
    "\n",
    "You can also use logical operators like `AND` and `OR` to combine multiple conditions. For example, to select users whose `user_id` is 1 and `first_name` is 'John', you would use:\n",
    "\n"
   ]
  },
  {
   "cell_type": "code",
   "execution_count": null,
   "metadata": {
    "vscode": {
     "languageId": "cql"
    }
   },
   "outputs": [],
   "source": [
    "SELECT * FROM my_keyspace.users WHERE user_id = 1 AND first_name = 'John';"
   ]
  },
  {
   "cell_type": "markdown",
   "metadata": {},
   "source": [
    "\n",
    "\n",
    "Please note that in Cassandra, you can only use the `WHERE` clause on columns that are part of the primary key or have an index. This is because Cassandra is designed for high performance, and allowing arbitrary queries without these restrictions would result in poor performance."
   ]
  },
  {
   "cell_type": "markdown",
   "metadata": {},
   "source": [
    "# Cassandra Update Data"
   ]
  },
  {
   "cell_type": "markdown",
   "metadata": {},
   "source": [
    "In Cassandra, you can update data in a table using the `UPDATE` statement. Here's the general syntax:\n",
    "\n"
   ]
  },
  {
   "cell_type": "code",
   "execution_count": null,
   "metadata": {
    "vscode": {
     "languageId": "cql"
    }
   },
   "outputs": [],
   "source": [
    "UPDATE keyspace_name.table_name SET column1 = value1, column2 = value2 WHERE condition;"
   ]
  },
  {
   "cell_type": "markdown",
   "metadata": {},
   "source": [
    "\n",
    "\n",
    "For example, if you have a table named `users` in the `my_keyspace` keyspace and you want to update the `email` of the user with `user_id` 1, you would use the following command:\n",
    "\n"
   ]
  },
  {
   "cell_type": "code",
   "execution_count": null,
   "metadata": {
    "vscode": {
     "languageId": "cql"
    }
   },
   "outputs": [],
   "source": [
    "UPDATE my_keyspace.users SET email = 'new.email@example.com' WHERE user_id = 1;"
   ]
  },
  {
   "cell_type": "markdown",
   "metadata": {},
   "source": [
    "\n",
    "\n",
    "This command updates the `email` of the user with `user_id` 1 to 'new.email@example.com'.\n",
    "\n",
    "You can also update multiple columns at once. For example, to update both the `email` and `first_name` of the user with `user_id` 1, you would use:\n",
    "\n"
   ]
  },
  {
   "cell_type": "code",
   "execution_count": null,
   "metadata": {
    "vscode": {
     "languageId": "cql"
    }
   },
   "outputs": [],
   "source": [
    "UPDATE my_keyspace.users SET email = 'new.email@example.com', first_name = 'NewName' WHERE user_id = 1;"
   ]
  },
  {
   "cell_type": "markdown",
   "metadata": {},
   "source": [
    "\n",
    "\n",
    "Please note that in Cassandra, you can only use the `WHERE` clause in an `UPDATE` statement on columns that are part of the primary key. This is because Cassandra uses the primary key to locate the data to update."
   ]
  },
  {
   "cell_type": "markdown",
   "metadata": {},
   "source": [
    "# Cassandra DELETE Data\n"
   ]
  },
  {
   "cell_type": "markdown",
   "metadata": {},
   "source": [
    "In Cassandra, you can delete data from a table using the `DELETE` statement. Here's the general syntax:\n",
    "\n"
   ]
  },
  {
   "cell_type": "code",
   "execution_count": null,
   "metadata": {
    "vscode": {
     "languageId": "cql"
    }
   },
   "outputs": [],
   "source": [
    "DELETE FROM keyspace_name.table_name WHERE condition;"
   ]
  },
  {
   "cell_type": "markdown",
   "metadata": {},
   "source": [
    "\n",
    "\n",
    "For example, if you have a table named `users` in the `my_keyspace` keyspace and you want to delete the user with `user_id` 1, you would use the following command:\n",
    "\n"
   ]
  },
  {
   "cell_type": "code",
   "execution_count": null,
   "metadata": {
    "vscode": {
     "languageId": "cql"
    }
   },
   "outputs": [],
   "source": [
    "DELETE FROM my_keyspace.users WHERE user_id = 1;"
   ]
  },
  {
   "cell_type": "markdown",
   "metadata": {},
   "source": [
    "\n",
    "\n",
    "This command deletes the user with `user_id` 1 from the `users` table.\n",
    "\n",
    "You can also delete specific columns from a row. For example, to delete the `email` of the user with `user_id` 1, you would use:\n",
    "\n"
   ]
  },
  {
   "cell_type": "code",
   "execution_count": null,
   "metadata": {
    "vscode": {
     "languageId": "cql"
    }
   },
   "outputs": [],
   "source": [
    "DELETE email FROM my_keyspace.users WHERE user_id = 1;"
   ]
  },
  {
   "cell_type": "markdown",
   "metadata": {},
   "source": [
    "\n",
    "\n",
    "This command deletes the `email` of the user with `user_id` 1, but leaves the rest of the user's data intact.\n",
    "\n",
    "Please note that in Cassandra, you can only use the `WHERE` clause in a `DELETE` statement on columns that are part of the primary key. This is because Cassandra uses the primary key to locate the data to delete."
   ]
  },
  {
   "cell_type": "markdown",
   "metadata": {},
   "source": [
    "# **Thank You!**"
   ]
  }
 ],
 "metadata": {
  "language_info": {
   "name": "python"
  }
 },
 "nbformat": 4,
 "nbformat_minor": 2
}
