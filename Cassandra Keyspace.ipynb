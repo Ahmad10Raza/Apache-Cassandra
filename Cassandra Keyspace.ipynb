{
 "cells": [
  {
   "cell_type": "markdown",
   "metadata": {},
   "source": [
    "# Cassandra Create Keyspace"
   ]
  },
  {
   "cell_type": "markdown",
   "metadata": {},
   "source": [
    "# What is Keyspace?"
   ]
  },
  {
   "cell_type": "markdown",
   "metadata": {},
   "source": [
    "A keyspace in Cassandra is similar to a database in relational databases. It is the outermost container for data in Cassandra. Replication settings are defined at the keyspace level. Inside a keyspace, you have tables, also known as column families. This concept is explained in the \"Cassandra Data Model\" section of your [Cassandra Tutorial.ipynb](Cassandra Tutorial.ipynb) file."
   ]
  },
  {
   "cell_type": "markdown",
   "metadata": {},
   "source": [
    "# Different components of Cassandra Keyspace"
   ]
  },
  {
   "cell_type": "markdown",
   "metadata": {},
   "source": [
    "A keyspace in Cassandra is the container for your application data, similar to a schema in a relational database. When you define a keyspace, you define attributes that affect the replication and durability of data in the keyspace.\n",
    "\n",
    "Here are the main components of a Cassandra keyspace:\n",
    "\n",
    "1. **Name**: The name of the keyspace. This is the identifier used in CQL commands.\n",
    "\n",
    "2. **Replication Factor**: The replication factor defines the number of replicas of data across the cluster. For example, a replication factor of 3 means there are three copies of each row, where each copy is on a different node.\n",
    "\n",
    "3. **Replication Strategy**: The replication strategy determines the nodes where replicas are placed. The two most common strategies are:\n",
    "   - SimpleStrategy: Use for a single data center only. The first replica is on the node selected by the partitioner. The other replicas are placed on the next nodes clockwise in the ring without considering the topology.\n",
    "   - NetworkTopologyStrategy: Use for more than one data center. This strategy specifies how many replicas you want in each data center. The replicas are placed in the same data center and rack if possible.\n",
    "\n",
    "4. **Durable Writes**: This option decides whether to use the commit log for updates in this keyspace. The default value is true, which provides durability. If set to false, it disables the commit log for this keyspace.\n",
    "\n",
    "Here is an example of creating a keyspace with these components:\n",
    "\n"
   ]
  },
  {
   "cell_type": "code",
   "execution_count": null,
   "metadata": {
    "vscode": {
     "languageId": "cql"
    }
   },
   "outputs": [],
   "source": [
    "CREATE KEYSPACE my_keyspace \n",
    "WITH REPLICATION = { 'class' : 'SimpleStrategy', 'replication_factor' : 3 }\n",
    "AND DURABLE_WRITES = true;"
   ]
  },
  {
   "cell_type": "markdown",
   "metadata": {},
   "source": [
    "\n",
    "\n",
    "This creates a keyspace named `my_keyspace` with a replication factor of 3, using the `SimpleStrategy` for replication, and with durable writes enabled."
   ]
  }
 ],
 "metadata": {
  "language_info": {
   "name": "python"
  }
 },
 "nbformat": 4,
 "nbformat_minor": 2
}
