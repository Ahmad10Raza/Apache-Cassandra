{
 "cells": [
  {
   "cell_type": "markdown",
   "metadata": {},
   "source": [
    "# Cassandra Create Keyspace"
   ]
  },
  {
   "cell_type": "markdown",
   "metadata": {},
   "source": [
    "# What is Keyspace?"
   ]
  },
  {
   "cell_type": "markdown",
   "metadata": {},
   "source": [
    "A keyspace in Cassandra is similar to a database in relational databases. It is the outermost container for data in Cassandra. Replication settings are defined at the keyspace level. Inside a keyspace, you have tables, also known as column families. This concept is explained in the \"Cassandra Data Model\" section of your [Cassandra Tutorial.ipynb](Cassandra Tutorial.ipynb) file."
   ]
  },
  {
   "cell_type": "markdown",
   "metadata": {},
   "source": [
    "# Different components of Cassandra Keyspace"
   ]
  },
  {
   "cell_type": "markdown",
   "metadata": {},
   "source": [
    "A keyspace in Cassandra is the container for your application data, similar to a schema in a relational database. When you define a keyspace, you define attributes that affect the replication and durability of data in the keyspace.\n",
    "\n",
    "Here are the main components of a Cassandra keyspace:\n",
    "\n",
    "1. **Name**: The name of the keyspace. This is the identifier used in CQL commands.\n",
    "\n",
    "2. **Replication Factor**: The replication factor defines the number of replicas of data across the cluster. For example, a replication factor of 3 means there are three copies of each row, where each copy is on a different node.\n",
    "\n",
    "3. **Replication Strategy**: The replication strategy determines the nodes where replicas are placed. The two most common strategies are:\n",
    "   - SimpleStrategy: Use for a single data center only. The first replica is on the node selected by the partitioner. The other replicas are placed on the next nodes clockwise in the ring without considering the topology.\n",
    "   - NetworkTopologyStrategy: Use for more than one data center. This strategy specifies how many replicas you want in each data center. The replicas are placed in the same data center and rack if possible.\n",
    "\n",
    "4. **Durable Writes**: This option decides whether to use the commit log for updates in this keyspace. The default value is true, which provides durability. If set to false, it disables the commit log for this keyspace.\n",
    "\n",
    "Here is an example of creating a keyspace with these components:\n",
    "\n"
   ]
  },
  {
   "cell_type": "code",
   "execution_count": null,
   "metadata": {
    "vscode": {
     "languageId": "cql"
    }
   },
   "outputs": [],
   "source": [
    "CREATE KEYSPACE my_keyspace \n",
    "WITH REPLICATION = { 'class' : 'SimpleStrategy', 'replication_factor' : 3 }\n",
    "AND DURABLE_WRITES = true;"
   ]
  },
  {
   "cell_type": "markdown",
   "metadata": {},
   "source": [
    "\n",
    "\n",
    "This creates a keyspace named `my_keyspace` with a replication factor of 3, using the `SimpleStrategy` for replication, and with durable writes enabled."
   ]
  },
  {
   "cell_type": "markdown",
   "metadata": {},
   "source": [
    "# Using a Keyspace"
   ]
  },
  {
   "cell_type": "markdown",
   "metadata": {},
   "source": [
    "To use a keyspace in Cassandra, you use the `USE` command in CQL (Cassandra Query Language). Here's how you do it:\n",
    "\n"
   ]
  },
  {
   "cell_type": "code",
   "execution_count": null,
   "metadata": {
    "vscode": {
     "languageId": "cql"
    }
   },
   "outputs": [],
   "source": [
    "\n",
    "\n",
    "USE\n",
    "\n",
    " my_keyspace;"
   ]
  },
  {
   "cell_type": "markdown",
   "metadata": {},
   "source": [
    "\n",
    "\n",
    "Replace `my_keyspace` with the name of your keyspace. After running this command, all CQL commands that you run will be executed in the context of this keyspace.\n",
    "\n",
    "For example, if you create a table after running the `USE` command, the table will be created within `my_keyspace`:\n",
    "\n"
   ]
  },
  {
   "cell_type": "code",
   "execution_count": null,
   "metadata": {
    "vscode": {
     "languageId": "cql"
    }
   },
   "outputs": [],
   "source": [
    "USE my_keyspace;\n",
    "CREATE TABLE users (\n",
    "    user_id int PRIMARY KEY,\n",
    "    first_name text,\n",
    "    last_name text,\n",
    "    email text\n",
    ");"
   ]
  },
  {
   "cell_type": "markdown",
   "metadata": {},
   "source": [
    "\n",
    "\n",
    "In this example, the `users` table is created within the `my_keyspace` keyspace. You can then insert data into the `users` table, select data from it, etc., and all of this will be within the context of `my_keyspace`."
   ]
  },
  {
   "cell_type": "markdown",
   "metadata": {},
   "source": [
    "# Cassandra Alter Keyspace"
   ]
  },
  {
   "cell_type": "markdown",
   "metadata": {},
   "source": [
    "The `ALTER KEYSPACE` command in Cassandra is used to change properties of an existing keyspace. The most common use case is to change the replication strategy or replication factor of a keyspace.\n",
    "\n",
    "Here's the general syntax:\n",
    "\n"
   ]
  },
  {
   "cell_type": "code",
   "execution_count": null,
   "metadata": {
    "vscode": {
     "languageId": "sql"
    }
   },
   "outputs": [],
   "source": [
    "ALTER KEYSPACE keyspace_name \n",
    "WITH REPLICATION = {'class' : 'replication_strategy', 'replication_factor' : replication_factor};"
   ]
  },
  {
   "cell_type": "markdown",
   "metadata": {},
   "source": [
    "\n",
    "\n",
    "For example, if you have a keyspace named `my_keyspace` and you want to change its replication factor to 5, you would use the following command:\n",
    "\n"
   ]
  },
  {
   "cell_type": "code",
   "execution_count": null,
   "metadata": {
    "vscode": {
     "languageId": "cql"
    }
   },
   "outputs": [],
   "source": [
    "ALTER KEYSPACE my_keyspace \n",
    "WITH REPLICATION = {'class' : 'SimpleStrategy', 'replication_factor' : 5};"
   ]
  },
  {
   "cell_type": "markdown",
   "metadata": {},
   "source": [
    "\n",
    "\n",
    "This command changes the replication factor of `my_keyspace` to 5.\n",
    "\n",
    "Please note that altering a keyspace's properties won't have an immediate effect on the data already stored. If you change the replication factor, for example, you would need to run a repair to ensure the data is properly replicated according to the new settings."
   ]
  },
  {
   "cell_type": "markdown",
   "metadata": {},
   "source": [
    "# Cassandra Drop Keyspace"
   ]
  },
  {
   "cell_type": "markdown",
   "metadata": {},
   "source": [
    "The `DROP KEYSPACE` command in Cassandra is used to delete a keyspace and all tables within that keyspace. \n",
    "\n",
    "Here's the general syntax:\n",
    "\n"
   ]
  },
  {
   "cell_type": "code",
   "execution_count": null,
   "metadata": {
    "vscode": {
     "languageId": "cql"
    }
   },
   "outputs": [],
   "source": [
    "DROP KEYSPACE keyspace_name;"
   ]
  },
  {
   "cell_type": "markdown",
   "metadata": {},
   "source": [
    "\n",
    "\n",
    "For example, if you have a keyspace named `my_keyspace` and you want to delete it, you would use the following command:\n",
    "\n"
   ]
  },
  {
   "cell_type": "code",
   "execution_count": null,
   "metadata": {
    "vscode": {
     "languageId": "cql"
    }
   },
   "outputs": [],
   "source": [
    "DROP KEYSPACE my_keyspace;"
   ]
  },
  {
   "cell_type": "markdown",
   "metadata": {},
   "source": [
    "\n",
    "\n",
    "This command deletes the `my_keyspace` keyspace and all of its tables.\n",
    "\n",
    "Please be careful when using this command, as it will permanently delete the keyspace and all of its data. There is no way to undo a `DROP KEYSPACE` command."
   ]
  },
  {
   "cell_type": "markdown",
   "metadata": {},
   "source": [
    "# Cassandra Create Table"
   ]
  },
  {
   "cell_type": "markdown",
   "metadata": {},
   "source": [
    "In Cassandra, you can create a table within a keyspace using the `CREATE TABLE` command. Here's the general syntax:\n",
    "\n"
   ]
  },
  {
   "cell_type": "code",
   "execution_count": null,
   "metadata": {
    "vscode": {
     "languageId": "cql"
    }
   },
   "outputs": [],
   "source": [
    "CREATE TABLE keyspace_name.table_name (\n",
    "    column_name1 data_type PRIMARY KEY,\n",
    "    column_name2 data_type,\n",
    "    ...\n",
    ");"
   ]
  },
  {
   "cell_type": "markdown",
   "metadata": {},
   "source": [
    "\n",
    "\n",
    "For example, if you want to create a table named `users` in the `my_keyspace` keyspace, with columns for `user_id`, `first_name`, `last_name`, and `email`, you would use the following command:\n",
    "\n"
   ]
  },
  {
   "cell_type": "code",
   "execution_count": null,
   "metadata": {
    "vscode": {
     "languageId": "cql"
    }
   },
   "outputs": [],
   "source": [
    "CREATE TABLE my_keyspace.users (\n",
    "    user_id int PRIMARY KEY,\n",
    "    first_name text,\n",
    "    last_name text,\n",
    "    email text\n",
    ");"
   ]
  },
  {
   "cell_type": "markdown",
   "metadata": {},
   "source": [
    "\n",
    "\n",
    "This command creates a `users` table with four columns. The `user_id` column is the primary key, which uniquely identifies each record in the table.\n",
    "\n",
    "In Cassandra, every table must have a primary key. The primary key can consist of one or more columns. If it consists of more than one column, the first part of the key is called the partition key, and the rest are clustering columns. The partition key determines which node stores the data. The clustering columns determine the order of the data on the node."
   ]
  },
  {
   "cell_type": "markdown",
   "metadata": {},
   "source": [
    "# Cassandra Alter Table"
   ]
  },
  {
   "cell_type": "markdown",
   "metadata": {},
   "source": [
    "The `ALTER TABLE` command in Cassandra is used to modify an existing table. You can use it to add new columns, drop existing columns, or change the type of existing columns.\n",
    "\n",
    "Here's the general syntax:\n",
    "\n",
    "1. **To add a new column**:\n",
    "\n",
    "   ```cql\n",
    "   ALTER TABLE keyspace_name.table_name ADD column_name data_type;\n",
    "   ```\n",
    "\n",
    "   For example, to add a `birthdate` column to the `users` table in the `my_keyspace` keyspace, you would use:\n",
    "\n",
    "   ```cql\n",
    "   ALTER TABLE my_keyspace.users ADD birthdate date;\n",
    "   ```\n",
    "\n",
    "2. **To drop a column**:\n",
    "\n",
    "   ```cql\n",
    "   ALTER TABLE keyspace_name.table_name DROP column_name;\n",
    "   ```\n",
    "\n",
    "   For example, to drop the `birthdate` column from the `users` table, you would use:\n",
    "\n",
    "   ```cql\n",
    "   ALTER TABLE my_keyspace.users DROP birthdate;\n",
    "   ```\n",
    "\n",
    "3. **To change the type of a column**:\n",
    "\n",
    "   ```cql\n",
    "   ALTER TABLE keyspace_name.table_name ALTER column_name TYPE new_data_type;\n",
    "   ```\n",
    "\n",
    "   For example, to change the `user_id` column in the `users` table from `int` to `bigint`, you would use:\n",
    "\n",
    "   ```cql\n",
    "   ALTER TABLE my_keyspace.users ALTER user_id TYPE bigint;\n",
    "   ```\n",
    "\n",
    "Please note that there are some restrictions on altering tables in Cassandra. For example, you cannot change the type of a column that is part of the primary key, and you cannot drop a column that is part of the primary key."
   ]
  },
  {
   "cell_type": "markdown",
   "metadata": {},
   "source": [
    "# Cassandra DROP table"
   ]
  },
  {
   "cell_type": "markdown",
   "metadata": {},
   "source": [
    "The `DROP TABLE` command in Cassandra is used to delete a table and all data within that table.\n",
    "\n",
    "Here's the general syntax:\n",
    "\n"
   ]
  },
  {
   "cell_type": "code",
   "execution_count": null,
   "metadata": {
    "vscode": {
     "languageId": "cql"
    }
   },
   "outputs": [],
   "source": [
    "DROP TABLE keyspace_name.table_name;"
   ]
  },
  {
   "cell_type": "markdown",
   "metadata": {},
   "source": [
    "\n",
    "\n",
    "For example, if you have a table named `users` in the `my_keyspace` keyspace and you want to delete it, you would use the following command:\n",
    "\n"
   ]
  },
  {
   "cell_type": "code",
   "execution_count": null,
   "metadata": {
    "vscode": {
     "languageId": "cql"
    }
   },
   "outputs": [],
   "source": [
    "DROP TABLE my_keyspace.users;"
   ]
  },
  {
   "cell_type": "markdown",
   "metadata": {},
   "source": [
    "\n",
    "\n",
    "This command deletes the `users` table and all of its data.\n",
    "\n",
    "Please be careful when using this command, as it will permanently delete the table and all of its data. There is no way to undo a `DROP TABLE` command."
   ]
  },
  {
   "cell_type": "markdown",
   "metadata": {},
   "source": [
    "# Cassandra Truncate Table\n"
   ]
  },
  {
   "cell_type": "markdown",
   "metadata": {},
   "source": [
    "The `TRUNCATE` command in Cassandra is used to remove all data from a table, but it keeps the table structure for future use.\n",
    "\n",
    "Here's the general syntax:\n",
    "\n"
   ]
  },
  {
   "cell_type": "code",
   "execution_count": null,
   "metadata": {
    "vscode": {
     "languageId": "cql"
    }
   },
   "outputs": [],
   "source": [
    "TRUNCATE keyspace_name.table_name;"
   ]
  },
  {
   "cell_type": "markdown",
   "metadata": {},
   "source": [
    "\n",
    "\n",
    "For example, if you have a table named `users` in the `my_keyspace` keyspace and you want to remove all data from it, you would use the following command:\n",
    "\n"
   ]
  },
  {
   "cell_type": "code",
   "execution_count": null,
   "metadata": {
    "vscode": {
     "languageId": "cql"
    }
   },
   "outputs": [],
   "source": [
    "TRUNCATE my_keyspace.users;"
   ]
  },
  {
   "cell_type": "markdown",
   "metadata": {},
   "source": [
    "\n",
    "\n",
    "This command removes all data from the `users` table, but the `users` table still exists and can be used for inserting data.\n",
    "\n",
    "Please be careful when using this command, as it will permanently delete all data in the table. There is no way to undo a `TRUNCATE` command."
   ]
  },
  {
   "cell_type": "markdown",
   "metadata": {},
   "source": [
    "# Cassandra Create Index"
   ]
  },
  {
   "cell_type": "markdown",
   "metadata": {},
   "source": [
    "In Cassandra, you can create an index on a table to speed up data access for specific queries. The `CREATE INDEX` command is used for this purpose.\n",
    "\n",
    "Here's the general syntax:\n",
    "\n"
   ]
  },
  {
   "cell_type": "code",
   "execution_count": null,
   "metadata": {
    "vscode": {
     "languageId": "cql"
    }
   },
   "outputs": [],
   "source": [
    "CREATE INDEX index_name ON keyspace_name.table_name (column_name);"
   ]
  },
  {
   "cell_type": "markdown",
   "metadata": {},
   "source": [
    "\n",
    "\n",
    "For example, if you have a table named `users` in the `my_keyspace` keyspace and you want to create an index on the `email` column, you would use the following command:\n",
    "\n"
   ]
  },
  {
   "cell_type": "code",
   "execution_count": null,
   "metadata": {
    "vscode": {
     "languageId": "cql"
    }
   },
   "outputs": [],
   "source": [
    "CREATE INDEX user_email ON my_keyspace.users (email);"
   ]
  },
  {
   "cell_type": "markdown",
   "metadata": {},
   "source": [
    "\n",
    "\n",
    "This command creates an index named `user_email` on the `email` column of the `users` table.\n",
    "\n",
    "After creating the index, you can perform queries that filter on the `email` column, and these queries will be faster than without the index.\n",
    "\n",
    "Please note that creating an index has a performance cost, as Cassandra needs to update the index each time data is written to the table. Therefore, indexes should be used judiciously."
   ]
  },
  {
   "cell_type": "markdown",
   "metadata": {},
   "source": [
    "# Cassandra DROP Index"
   ]
  },
  {
   "cell_type": "markdown",
   "metadata": {},
   "source": [
    "The `DROP INDEX` command in Cassandra is used to delete an index.\n",
    "\n",
    "Here's the general syntax:\n",
    "\n"
   ]
  },
  {
   "cell_type": "code",
   "execution_count": null,
   "metadata": {
    "vscode": {
     "languageId": "cql"
    }
   },
   "outputs": [],
   "source": [
    "DROP INDEX keyspace_name.index_name;"
   ]
  },
  {
   "cell_type": "markdown",
   "metadata": {},
   "source": [
    "\n",
    "\n",
    "For example, if you have an index named `user_email` in the `my_keyspace` keyspace and you want to delete it, you would use the following command:\n",
    "\n"
   ]
  },
  {
   "cell_type": "code",
   "execution_count": null,
   "metadata": {
    "vscode": {
     "languageId": "cql"
    }
   },
   "outputs": [],
   "source": [
    "DROP INDEX my_keyspace.user_email;"
   ]
  },
  {
   "cell_type": "markdown",
   "metadata": {},
   "source": [
    "\n",
    "\n",
    "This command deletes the `user_email` index.\n",
    "\n",
    "Please be careful when using this command, as it will permanently delete the index. However, unlike dropping tables or keyspaces, dropping an index does not delete any data from the table, it just removes the index."
   ]
  },
  {
   "cell_type": "markdown",
   "metadata": {},
   "source": [
    "# Cassandra Batch"
   ]
  },
  {
   "cell_type": "markdown",
   "metadata": {},
   "source": [
    "In Cassandra, a batch is used to group multiple data modification language (DML) statements (like INSERT, UPDATE, DELETE) into a single operation, which is atomic by nature. This means that either all the operations in the batch succeed, or none of them do.\n",
    "\n",
    "Here's the general syntax:\n",
    "\n"
   ]
  },
  {
   "cell_type": "code",
   "execution_count": null,
   "metadata": {
    "vscode": {
     "languageId": "cql"
    }
   },
   "outputs": [],
   "source": [
    "BEGIN BATCH\n",
    "   DML_statement;\n",
    "   DML_statement;\n",
    "   ...\n",
    "APPLY BATCH;"
   ]
  },
  {
   "cell_type": "markdown",
   "metadata": {},
   "source": [
    "\n",
    "\n",
    "For example, if you want to insert multiple rows into the `users` table in a single batch, you would use the following command:\n",
    "\n"
   ]
  },
  {
   "cell_type": "code",
   "execution_count": null,
   "metadata": {
    "vscode": {
     "languageId": "cql"
    }
   },
   "outputs": [],
   "source": [
    "BEGIN BATCH\n",
    "   INSERT INTO users (user_id, first_name, last_name, email) VALUES (1, 'John', 'Doe', 'john.doe@example.com');\n",
    "   INSERT INTO users (user_id, first_name, last_name, email) VALUES (2, 'Jane', 'Doe', 'jane.doe@example.com');\n",
    "APPLY BATCH;"
   ]
  },
  {
   "cell_type": "markdown",
   "metadata": {},
   "source": [
    "\n",
    "\n",
    "This command inserts two rows into the `users` table in a single operation.\n",
    "\n",
    "Please note that batches in Cassandra are not meant to improve performance. They are primarily used for ensuring atomicity and isolation. Large batches can put a lot of pressure on the coordinator node and can lead to timeouts. Therefore, it's recommended to keep batch sizes reasonable."
   ]
  },
  {
   "cell_type": "markdown",
   "metadata": {},
   "source": [
    "# **Thank You!**"
   ]
  }
 ],
 "metadata": {
  "language_info": {
   "name": "python"
  }
 },
 "nbformat": 4,
 "nbformat_minor": 2
}
