{
 "cells": [
  {
   "cell_type": "markdown",
   "metadata": {},
   "source": [
    "# Cassandra Collections"
   ]
  },
  {
   "cell_type": "markdown",
   "metadata": {},
   "source": [
    "Cassandra provides support for three types of collections: Lists, Sets, and Maps. These collections can be used to store multiple values in a single column.\n",
    "\n",
    "1. **List**: A list is a collection of ordered elements. Lists are useful when the order of the elements matters. Elements are ordered by the order of insertion.\n",
    "\n",
    "   Example of creating a table with a list:\n",
    "\n",
    "   ```cql\n",
    "   CREATE TABLE my_keyspace.my_table (\n",
    "       id int PRIMARY KEY,\n",
    "       my_list list<int>\n",
    "   );\n",
    "   ```\n",
    "\n",
    "   Example of inserting data into a list:\n",
    "\n",
    "   ```cql\n",
    "   INSERT INTO my_keyspace.my_table (id, my_list) VALUES (1, [1, 2, 3]);\n",
    "   ```\n",
    "\n",
    "2. **Set**: A set is a collection of unique elements. Sets are useful when you want to keep a collection of elements, but each element only once.\n",
    "\n",
    "   Example of creating a table with a set:\n",
    "\n",
    "   ```cql\n",
    "   CREATE TABLE my_keyspace.my_table (\n",
    "       id int PRIMARY KEY,\n",
    "       my_set set<int>\n",
    "   );\n",
    "   ```\n",
    "\n",
    "   Example of inserting data into a set:\n",
    "\n",
    "   ```cql\n",
    "   INSERT INTO my_keyspace.my_table (id, my_set) VALUES (1, {1, 2, 3});\n",
    "   ```\n",
    "\n",
    "3. **Map**: A map is a collection of key-value pairs. Maps are useful when you need more structure than a list or a set can offer.\n",
    "\n",
    "   Example of creating a table with a map:\n",
    "\n",
    "   ```cql\n",
    "   CREATE TABLE my_keyspace.my_table (\n",
    "       id int PRIMARY KEY,\n",
    "       my_map map<text, int>\n",
    "   );\n",
    "   ```\n",
    "\n",
    "   Example of inserting data into a map:\n",
    "\n",
    "   ```cql\n",
    "   INSERT INTO my_keyspace.my_table (id, my_map) VALUES (1, {'key1': 1, 'key2': 2});\n",
    "   ```\n",
    "\n",
    "Please note that collections in Cassandra are not meant to store large amounts of data. They are designed to store a few hundred elements at most. Storing more than that can lead to performance issues."
   ]
  }
 ],
 "metadata": {
  "language_info": {
   "name": "python"
  }
 },
 "nbformat": 4,
 "nbformat_minor": 2
}
